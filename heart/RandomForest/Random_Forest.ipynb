{
  "nbformat": 4,
  "nbformat_minor": 0,
  "metadata": {
    "colab": {
      "name": "Random_Forest.ipynb",
      "version": "0.3.2",
      "provenance": [],
      "collapsed_sections": []
    },
    "kernelspec": {
      "name": "python3",
      "display_name": "Python 3"
    }
  },
  "cells": [
    {
      "metadata": {
        "id": "RK3ePf9X4bI1",
        "colab_type": "code",
        "colab": {}
      },
      "cell_type": "code",
      "source": [
        "from sklearn.model_selection import train_test_split\n",
        "import pandas as pd\n",
        "import numpy as np\n",
        "from keras.models import Sequential\n",
        "from keras.layers import Dense, Activation, Flatten\n",
        "from sklearn.ensemble import RandomForestClassifier\n",
        "from sklearn.metrics import f1_score\n",
        "from sklearn.metrics import accuracy_score\n",
        "from keras.callbacks import ModelCheckpoint\n",
        "from sklearn.metrics import accuracy_score\n",
        "import matplotlib.pyplot as plt\n",
        "import matplotlib\n",
        "from sklearn.model_selection import StratifiedKFold\n",
        "from sklearn.metrics import roc_curve, auc\n",
        "import csv\n",
        "\n",
        "%matplotlib inline\n",
        "matplotlib.rcParams.update({'font.size': 20})\n",
        "\n"
      ],
      "execution_count": 0,
      "outputs": []
    },
    {
      "metadata": {
        "id": "h9AhCgQ04j6C",
        "colab_type": "code",
        "colab": {}
      },
      "cell_type": "code",
      "source": [
        "url_input = 'https://raw.githubusercontent.com/AigerimJ/heart_disease/master/heart/train/train.csv?token=ATmRgDIt8LL9NdjbX091iBYA_RE-QLfkks5clxRpwA%3D%3D'\n",
        "\n",
        "dataset = pd.read_csv(url_input)\n",
        "dataset.head()\n",
        "\n",
        "y = dataset['present_heart_disease']\n",
        "X = dataset.drop(['patient_id', 'present_heart_disease'], axis = 1)\n",
        "\n",
        "\n",
        "for i in range(len(X.values)):\n",
        "  if(X.thal.values[i] == 'normal'):\n",
        "    X.thal.values[i] = 1\n",
        "    \n",
        "  if(X.thal.values[i] == 'fixed_defect'):\n",
        "    X.thal.values[i] = 2\n",
        "  \n",
        "  if(X.thal.values[i] == 'reversible_defect'):\n",
        "    X.thal.values[i] = 3\n",
        "    \n",
        "\n",
        "# print(y)\n",
        "# Split the dataset to train and test data\n",
        "# train_X, test_X, train_y, test_y = train_test_split(X, y, test_size=0.25, random_state=0)\n"
      ],
      "execution_count": 0,
      "outputs": []
    },
    {
      "metadata": {
        "id": "jT7keuGU5Qno",
        "colab_type": "code",
        "outputId": "48be38f0-114e-480b-a4d2-8435c52408e8",
        "colab": {
          "base_uri": "https://localhost:8080/",
          "height": 136
        }
      },
      "cell_type": "code",
      "source": [
        "parameters = {'bootstrap': True,\n",
        "              'min_samples_leaf': 3,\n",
        "              'n_estimators': 50, \n",
        "              'min_samples_split': 10,\n",
        "              'max_features': 'sqrt',\n",
        "              'max_depth': 6,\n",
        "              'max_leaf_nodes': None}\n",
        "\n",
        "\n",
        "RF_model = RandomForestClassifier(**parameters)\n",
        "\n",
        "\n",
        "clf = RandomForestClassifier(\n",
        "    n_estimators=50,\n",
        "    criterion='gini',\n",
        "    max_depth=5,\n",
        "    min_samples_split=2,\n",
        "    min_samples_leaf=1,\n",
        "    min_weight_fraction_leaf=0.0,\n",
        "    max_features='auto',\n",
        "    max_leaf_nodes=None,\n",
        "    min_impurity_decrease=0.0,\n",
        "    min_impurity_split=None,\n",
        "    bootstrap=True,\n",
        "    oob_score=False,\n",
        "    n_jobs=-1,\n",
        "    random_state=0,\n",
        "    verbose=0,\n",
        "    warm_start=False,\n",
        "    class_weight='balanced'\n",
        ")\n",
        "\n",
        "\n",
        "RF_model.fit(X, y)\n",
        "\n",
        "clf.fit(X, y)\n",
        "\n"
      ],
      "execution_count": 0,
      "outputs": [
        {
          "output_type": "execute_result",
          "data": {
            "text/plain": [
              "RandomForestClassifier(bootstrap=True, class_weight='balanced',\n",
              "            criterion='gini', max_depth=5, max_features='auto',\n",
              "            max_leaf_nodes=None, min_impurity_decrease=0.0,\n",
              "            min_impurity_split=None, min_samples_leaf=1,\n",
              "            min_samples_split=2, min_weight_fraction_leaf=0.0,\n",
              "            n_estimators=50, n_jobs=-1, oob_score=False, random_state=0,\n",
              "            verbose=0, warm_start=False)"
            ]
          },
          "metadata": {
            "tags": []
          },
          "execution_count": 15
        }
      ]
    },
    {
      "metadata": {
        "id": "IOxQNI_A5h81",
        "colab_type": "code",
        "outputId": "081801ce-d2a0-4c60-c3bd-6c27c4bcfe5b",
        "colab": {
          "base_uri": "https://localhost:8080/",
          "height": 51
        }
      },
      "cell_type": "code",
      "source": [
        "RF_predictions = RF_model.predict(X)\n",
        "score = accuracy_score(y ,RF_predictions)\n",
        "print(score)\n",
        "\n",
        "\n",
        "\n",
        "clf_predictions = clf.predict(X)\n",
        "score_clf = accuracy_score(y ,clf_predictions)\n",
        "print(score_clf)"
      ],
      "execution_count": 0,
      "outputs": [
        {
          "output_type": "stream",
          "text": [
            "0.8888888888888888\n",
            "0.95\n"
          ],
          "name": "stdout"
        }
      ]
    },
    {
      "metadata": {
        "id": "FHYd9kijO896",
        "colab_type": "code",
        "colab": {}
      },
      "cell_type": "code",
      "source": [
        "def plot_roc_curve(fprs, tprs):\n",
        "    \"\"\"Plot the Receiver Operating Characteristic from a list\n",
        "    of true positive rates and false positive rates.\"\"\"\n",
        "    \n",
        "    # Initialize useful lists + the plot axes.\n",
        "    tprs_interp = []\n",
        "    aucs = []\n",
        "    mean_fpr = np.linspace(0, 1, 100)\n",
        "    f, ax = plt.subplots(figsize=(14,10))\n",
        "    \n",
        "    # Plot ROC for each K-Fold + compute AUC scores.\n",
        "    for i, (fpr, tpr) in enumerate(zip(fprs, tprs)):\n",
        "        tprs_interp.append(np.interp(mean_fpr, fpr, tpr))\n",
        "        tprs_interp[-1][0] = 0.0\n",
        "        roc_auc = auc(fpr, tpr)\n",
        "        aucs.append(roc_auc)\n",
        "        ax.plot(fpr, tpr, lw=1, alpha=0.3,\n",
        "                 label='ROC fold %d (AUC = %0.2f)' % (i, roc_auc))\n",
        "        \n",
        "    # Plot the luck line.\n",
        "    plt.plot([0, 1], [0, 1], linestyle='--', lw=2, color='r',\n",
        "             label='Luck', alpha=.8)\n",
        "    \n",
        "    # Plot the mean ROC.\n",
        "    mean_tpr = np.mean(tprs_interp, axis=0)\n",
        "    mean_tpr[-1] = 1.0\n",
        "    mean_auc = auc(mean_fpr, mean_tpr)\n",
        "    std_auc = np.std(aucs)\n",
        "    ax.plot(mean_fpr, mean_tpr, color='b',\n",
        "             label=r'Mean ROC (AUC = %0.2f $\\pm$ %0.2f)' % (mean_auc, std_auc),\n",
        "             lw=2, alpha=.8)\n",
        "    \n",
        "    # Plot the standard deviation around the mean ROC.\n",
        "    std_tpr = np.std(tprs_interp, axis=0)\n",
        "    tprs_upper = np.minimum(mean_tpr + std_tpr, 1)\n",
        "    tprs_lower = np.maximum(mean_tpr - std_tpr, 0)\n",
        "    ax.fill_between(mean_fpr, tprs_lower, tprs_upper, color='grey', alpha=.2,\n",
        "                     label=r'$\\pm$ 1 std. dev.')\n",
        "    \n",
        "    # Fine tune and show the plot.\n",
        "    ax.set_xlim([-0.05, 1.05])\n",
        "    ax.set_ylim([-0.05, 1.05])\n",
        "    ax.set_xlabel('False Positive Rate')\n",
        "    ax.set_ylabel('True Positive Rate')\n",
        "    ax.set_title('Receiver operating characteristic')\n",
        "    ax.legend(loc=\"lower right\")\n",
        "    plt.show()\n",
        "    return (f, ax)\n",
        "\n",
        "def compute_roc_auc(index):\n",
        "    y_predict = clf.predict_proba(X.iloc[index])[:,1]\n",
        "    fpr, tpr, thresholds = roc_curve(y.iloc[index], y_predict)\n",
        "    auc_score = auc(fpr, tpr)\n",
        "    return fpr, tpr, auc_score"
      ],
      "execution_count": 0,
      "outputs": []
    },
    {
      "metadata": {
        "id": "PDIfjr21ODsj",
        "colab_type": "code",
        "outputId": "bfee9113-5b96-4d32-c146-038a5cd6ea1d",
        "colab": {
          "base_uri": "https://localhost:8080/",
          "height": 807
        }
      },
      "cell_type": "code",
      "source": [
        "## cross-validation of clf:\n",
        "\n",
        "cv = StratifiedKFold(n_splits=5, random_state=123, shuffle=True)\n",
        "results = pd.DataFrame(columns=['training_score', 'test_score'])\n",
        "fprs, tprs, scores = [], [], []\n",
        "    \n",
        "for (train, test), i in zip(cv.split(X, y), range(5)):\n",
        "    RF_model.fit(X.iloc[train], y.iloc[train])\n",
        "    _, _, auc_score_train = compute_roc_auc(train)\n",
        "    fpr, tpr, auc_score = compute_roc_auc(test)\n",
        "    scores.append((auc_score_train, auc_score))\n",
        "    fprs.append(fpr)\n",
        "    tprs.append(tpr)\n",
        "\n",
        "plot_roc_curve(fprs, tprs);\n",
        "pd.DataFrame(scores, columns=['AUC Train', 'AUC Test'])\n",
        "\n"
      ],
      "execution_count": 0,
      "outputs": [
        {
          "output_type": "display_data",
          "data": {
            "image/png": "[encoded data removed]",
            "text/plain": [
              "<Figure size 1008x720 with 1 Axes>"
            ]
          },
          "metadata": {
            "tags": []
          }
        },
        {
          "output_type": "execute_result",
          "data": {
            "text/html": [
              "<div>\n",
              "<style scoped>\n",
              "    .dataframe tbody tr th:only-of-type {\n",
              "        vertical-align: middle;\n",
              "    }\n",
              "\n",
              "    .dataframe tbody tr th {\n",
              "        vertical-align: top;\n",
              "    }\n",
              "\n",
              "    .dataframe thead th {\n",
              "        text-align: right;\n",
              "    }\n",
              "</style>\n",
              "<table border=\"1\" class=\"dataframe\">\n",
              "  <thead>\n",
              "    <tr style=\"text-align: right;\">\n",
              "      <th></th>\n",
              "      <th>AUC Train</th>\n",
              "      <th>AUC Test</th>\n",
              "    </tr>\n",
              "  </thead>\n",
              "  <tbody>\n",
              "    <tr>\n",
              "      <th>0</th>\n",
              "      <td>0.984574</td>\n",
              "      <td>1.000000</td>\n",
              "    </tr>\n",
              "    <tr>\n",
              "      <th>1</th>\n",
              "      <td>0.984574</td>\n",
              "      <td>1.000000</td>\n",
              "    </tr>\n",
              "    <tr>\n",
              "      <th>2</th>\n",
              "      <td>0.987069</td>\n",
              "      <td>0.992982</td>\n",
              "    </tr>\n",
              "    <tr>\n",
              "      <th>3</th>\n",
              "      <td>0.985058</td>\n",
              "      <td>1.000000</td>\n",
              "    </tr>\n",
              "    <tr>\n",
              "      <th>4</th>\n",
              "      <td>0.997547</td>\n",
              "      <td>0.913534</td>\n",
              "    </tr>\n",
              "  </tbody>\n",
              "</table>\n",
              "</div>"
            ],
            "text/plain": [
              "   AUC Train  AUC Test\n",
              "0   0.984574  1.000000\n",
              "1   0.984574  1.000000\n",
              "2   0.987069  0.992982\n",
              "3   0.985058  1.000000\n",
              "4   0.997547  0.913534"
            ]
          },
          "metadata": {
            "tags": []
          },
          "execution_count": 91
        }
      ]
    },
    {
      "metadata": {
        "id": "Kas8fAA3EKuq",
        "colab_type": "text"
      },
      "cell_type": "markdown",
      "source": [
        "##Now let's check some values:"
      ]
    },
    {
      "metadata": {
        "id": "9AALnhatE1zJ",
        "colab_type": "code",
        "colab": {}
      },
      "cell_type": "code",
      "source": [
        "##test values:\n",
        "\n",
        "url_input_1 = 'https://raw.githubusercontent.com/AigerimJ/heart_disease/master/heart/train/train.csv?token=ATmRgDIt8LL9NdjbX091iBYA_RE-QLfkks5clxRpwA%3D%3D'\n",
        "\n",
        "dataset1 = pd.read_csv(url_input_1)\n",
        "dataset1.head()\n",
        "\n",
        "y_test1 = dataset1['result']\n",
        "X_test1 = dataset1.drop(['patient_id', 'result'], axis = 1)\n",
        "\n",
        "for i in range(len(X_test1.values)):\n",
        "  if(X_test1.thal.values[i] == 'normal'):\n",
        "    X_test1.thal.values[i] = 1\n",
        "    \n",
        "  if(X_test1.thal.values[i] == 'fixed_defect'):\n",
        "    X_test1.thal.values[i] = 2\n",
        "  \n",
        "  if(X_test1.thal.values[i] == 'reversible_defect'):\n",
        "    X_test1.thal.values[i] = 3\n",
        "\n",
        " "
      ],
      "execution_count": 0,
      "outputs": []
    },
    {
      "metadata": {
        "id": "n24pR8joJzeA",
        "colab_type": "code",
        "colab": {}
      },
      "cell_type": "code",
      "source": [
        "## cross-fitting:\n",
        "\n",
        "\n",
        "\n",
        "\n"
      ],
      "execution_count": 0,
      "outputs": []
    },
    {
      "metadata": {
        "id": "HgGaKZRZDpFN",
        "colab_type": "code",
        "outputId": "ff86989d-82c1-4e0f-ebff-00743fd1b408",
        "colab": {
          "base_uri": "https://localhost:8080/",
          "height": 238
        }
      },
      "cell_type": "code",
      "source": [
        "# predict and show\n",
        "\n",
        "# Y_pred = np.empty((len(X_test1), 1))\n",
        "\n",
        "# for i in range(len(X_test1)):\n",
        "#   Y_pred[i] += RF_model.predict([X_test1.values[i]])\n",
        "# #   print(i,\") Labeled case: %2f\" %y_test1.values[i], \" Prediction: %2f\" %Y_pred[i])\n",
        "  \n",
        "# RF_predictions1 = RF_model.predict(X_test1)\n",
        "# score1 = accuracy_score(y_test1, RF_predictions1)\n",
        "# print(score1)\n",
        "\n",
        "\n",
        "Y_pred1 = np.empty((len(X_test1), 1))\n",
        "\n",
        "\n",
        "# print(clf.predict_proba(X_test1))\n",
        "\n",
        "for i in range(len(X_test1)):\n",
        "  Y_pred1[i] += clf.predict_proba([X_test1.values[i]])[:,1]\n",
        "  print(i,\") Labeled case: %2f\" %y_test1.values[i], \" Prediction_prob: %2f\" %Y_pred1[i])\n",
        "  \n",
        "clf_predictions1 = clf.predict(X_test1)\n",
        "score2 = accuracy_score(y_test1, clf_predictions1)\n",
        "print(score2)"
      ],
      "execution_count": 0,
      "outputs": [
        {
          "output_type": "stream",
          "text": [
            "0 ) Labeled case: 0.000000  Prediction_prob: 0.500163\n",
            "1 ) Labeled case: 0.000000  Prediction_prob: 0.410260\n",
            "2 ) Labeled case: 1.000000  Prediction_prob: 0.613535\n",
            "3 ) Labeled case: 1.000000  Prediction_prob: 0.543456\n",
            "4 ) Labeled case: 1.000000  Prediction_prob: 0.672042\n",
            "5 ) Labeled case: 1.000000  Prediction_prob: 0.630675\n",
            "6 ) Labeled case: 0.000000  Prediction_prob: 0.256400\n",
            "7 ) Labeled case: 1.000000  Prediction_prob: 0.569381\n",
            "8 ) Labeled case: 1.000000  Prediction_prob: 0.575397\n",
            "9 ) Labeled case: 1.000000  Prediction_prob: 0.716182\n",
            "10 ) Labeled case: 0.000000  Prediction_prob: 0.202637\n",
            "11 ) Labeled case: 0.000000  Prediction_prob: 0.099301\n",
            "0.9166666666666666\n"
          ],
          "name": "stdout"
        }
      ]
    },
    {
      "metadata": {
        "id": "SC1xJpveHS-h",
        "colab_type": "text"
      },
      "cell_type": "markdown",
      "source": [
        "##Now real test goes next:"
      ]
    },
    {
      "metadata": {
        "id": "GojtabnPDpIS",
        "colab_type": "code",
        "colab": {}
      },
      "cell_type": "code",
      "source": [
        "##test values:\n",
        "\n",
        "url_input_2 = 'https://raw.githubusercontent.com/AigerimJ/heart_disease/master/heart/test/test_values.csv?token=ATmRgCpws27z69mW58ssz9qNFaZwrnBVks5cllChwA%3D%3D'\n",
        "\n",
        "dataset2 = pd.read_csv(url_input_2)\n",
        "dataset2.head()\n",
        "\n",
        "X_test2 = dataset2.drop(['patient_id'], axis = 1)\n",
        "\n",
        "for i in range(len(X_test2.values)):\n",
        "  if(X_test2.thal.values[i] == 'normal'):\n",
        "    X_test2.thal.values[i] = 1\n",
        "    \n",
        "  if(X_test2.thal.values[i] == 'fixed_defect'):\n",
        "    X_test2.thal.values[i] = 2\n",
        "  \n",
        "  if(X_test2.thal.values[i] == 'reversible_defect'):\n",
        "    X_test2.thal.values[i] = 3"
      ],
      "execution_count": 0,
      "outputs": []
    },
    {
      "metadata": {
        "id": "3sNv10e2DpO1",
        "colab_type": "code",
        "outputId": "1385c85b-5fd7-427e-ab87-42d9a23e8ada",
        "colab": {
          "base_uri": "https://localhost:8080/",
          "height": 1547
        }
      },
      "cell_type": "code",
      "source": [
        "# predict and show\n",
        "\n",
        "Y_pred2 = np.empty((len(X_test2), 1))\n",
        "\n",
        "for i in range(len(X_test2)):\n",
        "  Y_pred2[i] += clf.predict_proba([X_test2.values[i]])[:,1]\n",
        "  \n",
        "  print(i,\") Labeled case: %2f\" %Y_pred2[i])\n",
        "  \n",
        "# Y_pred2.to_csv('csv_example')\n",
        "# print(Y_pred2)\n",
        " \n",
        "# with open(\"output.csv\", \"wb\") as f:\n",
        "#     writer = csv.writer(f)\n",
        "#     writer.writerows(Y_pred2)"
      ],
      "execution_count": 0,
      "outputs": [
        {
          "output_type": "stream",
          "text": [
            "0 ) Labeled case: 0.378631\n",
            "1 ) Labeled case: 0.193516\n",
            "2 ) Labeled case: 0.948531\n",
            "3 ) Labeled case: 0.162268\n",
            "4 ) Labeled case: 0.885356\n",
            "5 ) Labeled case: 0.018213\n",
            "6 ) Labeled case: 0.336448\n",
            "7 ) Labeled case: 0.781979\n",
            "8 ) Labeled case: 0.248552\n",
            "9 ) Labeled case: 0.128894\n",
            "10 ) Labeled case: 0.386116\n",
            "11 ) Labeled case: 0.516358\n",
            "12 ) Labeled case: 0.324427\n",
            "13 ) Labeled case: 0.833626\n",
            "14 ) Labeled case: 0.198000\n",
            "15 ) Labeled case: 0.049597\n",
            "16 ) Labeled case: 0.097376\n",
            "17 ) Labeled case: 0.283380\n",
            "18 ) Labeled case: 0.862112\n",
            "19 ) Labeled case: 0.066919\n",
            "20 ) Labeled case: 0.956558\n",
            "21 ) Labeled case: 0.134276\n",
            "22 ) Labeled case: 0.213006\n",
            "23 ) Labeled case: 0.046240\n",
            "24 ) Labeled case: 0.594899\n",
            "25 ) Labeled case: 0.927730\n",
            "26 ) Labeled case: 0.618908\n",
            "27 ) Labeled case: 0.252062\n",
            "28 ) Labeled case: 0.538289\n",
            "29 ) Labeled case: 0.019447\n",
            "30 ) Labeled case: 0.792212\n",
            "31 ) Labeled case: 0.450808\n",
            "32 ) Labeled case: 0.632654\n",
            "33 ) Labeled case: 0.332689\n",
            "34 ) Labeled case: 0.225740\n",
            "35 ) Labeled case: 0.165645\n",
            "36 ) Labeled case: 0.364087\n",
            "37 ) Labeled case: 0.321927\n",
            "38 ) Labeled case: 0.330301\n",
            "39 ) Labeled case: 0.166357\n",
            "40 ) Labeled case: 0.839288\n",
            "41 ) Labeled case: 0.223342\n",
            "42 ) Labeled case: 0.942806\n",
            "43 ) Labeled case: 0.110845\n",
            "44 ) Labeled case: 0.874980\n",
            "45 ) Labeled case: 0.118595\n",
            "46 ) Labeled case: 0.128681\n",
            "47 ) Labeled case: 0.409380\n",
            "48 ) Labeled case: 0.244283\n",
            "49 ) Labeled case: 0.636301\n",
            "50 ) Labeled case: 0.574571\n",
            "51 ) Labeled case: 0.088039\n",
            "52 ) Labeled case: 0.886142\n",
            "53 ) Labeled case: 0.203107\n",
            "54 ) Labeled case: 0.375871\n",
            "55 ) Labeled case: 0.116489\n",
            "56 ) Labeled case: 0.764256\n",
            "57 ) Labeled case: 0.162102\n",
            "58 ) Labeled case: 0.247481\n",
            "59 ) Labeled case: 0.763548\n",
            "60 ) Labeled case: 0.121591\n",
            "61 ) Labeled case: 0.945849\n",
            "62 ) Labeled case: 0.224871\n",
            "63 ) Labeled case: 0.874503\n",
            "64 ) Labeled case: 0.271135\n",
            "65 ) Labeled case: 0.777699\n",
            "66 ) Labeled case: 0.673439\n",
            "67 ) Labeled case: 0.451177\n",
            "68 ) Labeled case: 0.767012\n",
            "69 ) Labeled case: 0.625361\n",
            "70 ) Labeled case: 0.136680\n",
            "71 ) Labeled case: 0.939741\n",
            "72 ) Labeled case: 0.946946\n",
            "73 ) Labeled case: 0.918807\n",
            "74 ) Labeled case: 0.959096\n",
            "75 ) Labeled case: 0.980473\n",
            "76 ) Labeled case: 0.864438\n",
            "77 ) Labeled case: 0.533789\n",
            "78 ) Labeled case: 0.358236\n",
            "79 ) Labeled case: 0.505585\n",
            "80 ) Labeled case: 0.712114\n",
            "81 ) Labeled case: 0.149994\n",
            "82 ) Labeled case: 0.451006\n",
            "83 ) Labeled case: 0.876400\n",
            "84 ) Labeled case: 0.330719\n",
            "85 ) Labeled case: 0.181371\n",
            "86 ) Labeled case: 0.732812\n",
            "87 ) Labeled case: 0.172620\n",
            "88 ) Labeled case: 0.215782\n",
            "89 ) Labeled case: 0.213282\n"
          ],
          "name": "stdout"
        }
      ]
    },
    {
      "metadata": {
        "id": "ekTN3NW-DpMx",
        "colab_type": "code",
        "colab": {}
      },
      "cell_type": "code",
      "source": [
        ""
      ],
      "execution_count": 0,
      "outputs": []
    },
    {
      "metadata": {
        "id": "Zz8TQZxADpKr",
        "colab_type": "code",
        "colab": {}
      },
      "cell_type": "code",
      "source": [
        ""
      ],
      "execution_count": 0,
      "outputs": []
    }
  ]
}